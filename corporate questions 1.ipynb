{
  "nbformat": 4,
  "nbformat_minor": 0,
  "metadata": {
    "colab": {
      "provenance": [],
      "authorship_tag": "ABX9TyNetx7pDO84SCnyYXOQflp/",
      "include_colab_link": true
    },
    "kernelspec": {
      "name": "python3",
      "display_name": "Python 3"
    },
    "language_info": {
      "name": "python"
    }
  },
  "cells": [
    {
      "cell_type": "markdown",
      "metadata": {
        "id": "view-in-github",
        "colab_type": "text"
      },
      "source": [
        "<a href=\"https://colab.research.google.com/github/kiran-dr/corporate-questions/blob/main/corporate%20questions%201.ipynb\" target=\"_parent\"><img src=\"https://colab.research.google.com/assets/colab-badge.svg\" alt=\"Open In Colab\"/></a>"
      ]
    },
    {
      "cell_type": "code",
      "execution_count": 33,
      "metadata": {
        "colab": {
          "base_uri": "https://localhost:8080/"
        },
        "id": "nDhvdzN_ScOC",
        "outputId": "02f9104f-ceb4-4812-b395-23dbf8a900b6"
      },
      "outputs": [
        {
          "output_type": "stream",
          "name": "stdout",
          "text": [
            "Enter m value:6\n",
            "Enter n value:2\n",
            "Enter valid m,n values\n"
          ]
        }
      ],
      "source": [
        "# Python program to give sum of all cubes from m to n\n",
        "m=int(input(\"Enter m value:\"))\n",
        "n=int(input(\"Enter n value:\"))\n",
        "output=0\n",
        "if m>n :\n",
        "  print(\"Enter valid m,n values\")\n",
        "else:\n",
        "  for x in range(m,n+1):\n",
        "    output=output+x**3\n",
        "  print(f\"sum of cubes from {m} to {n} = {output}\")"
      ]
    },
    {
      "cell_type": "code",
      "source": [
        "# Python program to give product numbers from m to n\n",
        "m=int(input(\"Enter m value:\"))\n",
        "n=int(input(\"Enter n value:\"))\n",
        "if m>n :\n",
        "  print(\"Enter valid m,n values\")\n",
        "else:\n",
        "  output=1\n",
        "  for x in range(m,n+1):\n",
        "    output=output*x\n",
        "  print(f\"Product of integers from {m} to {n} = {output}\")"
      ],
      "metadata": {
        "colab": {
          "base_uri": "https://localhost:8080/"
        },
        "id": "OHkeL3esYQCv",
        "outputId": "7b972e25-2de4-435f-b10c-946416b86eec"
      },
      "execution_count": 40,
      "outputs": [
        {
          "output_type": "stream",
          "name": "stdout",
          "text": [
            "Enter m value:3\n",
            "Enter n value:2\n",
            "Enter valid m,n values\n"
          ]
        }
      ]
    },
    {
      "cell_type": "code",
      "source": [
        "# Python program to give product of all even numbers from m to n\n",
        "m=int(input(\"Enter m value:\"))\n",
        "n=int(input(\"Enter n value:\"))\n",
        "if m>n :\n",
        "  print(\"Enter valid m,n values\")\n",
        "else:\n",
        "  output=1\n",
        "  for x in range(m,n+1):\n",
        "    if x%2==0:\n",
        "      output=output*x\n",
        "  print(f\"Product of even numbers from {m} to {n} = {output}\")"
      ],
      "metadata": {
        "colab": {
          "base_uri": "https://localhost:8080/"
        },
        "id": "S0KK3ikTatV_",
        "outputId": "def1bdd9-4edc-449b-bda2-5dc082888447"
      },
      "execution_count": 50,
      "outputs": [
        {
          "output_type": "stream",
          "name": "stdout",
          "text": [
            "Enter m value:3\n",
            "Enter n value:3\n",
            "Product of even numbers from 3 to 3 = 1\n"
          ]
        }
      ]
    },
    {
      "cell_type": "code",
      "source": [
        "# Python program to give product of all odd numbers from m to n\n",
        "m=int(input(\"Enter m value:\"))\n",
        "n=int(input(\"Enter n value:\"))\n",
        "if m>n :\n",
        "  print(\"Enter valid m,n values\")\n",
        "else:\n",
        "  output=1\n",
        "  for x in range(m,n+1):\n",
        "    if x%2!=0:\n",
        "      output=output*x\n",
        "  print(f\"Product of even numbers from {m} to {n} = {output}\")"
      ],
      "metadata": {
        "colab": {
          "base_uri": "https://localhost:8080/"
        },
        "id": "P-jPb6rzbrYN",
        "outputId": "d8b0e11d-fa12-43fe-fe68-c7256620b08d"
      },
      "execution_count": 47,
      "outputs": [
        {
          "output_type": "stream",
          "name": "stdout",
          "text": [
            "Enter m value:3\n",
            "Enter n value:1\n",
            "Enter valid m,n values\n"
          ]
        }
      ]
    },
    {
      "cell_type": "code",
      "source": [
        "# Python program to give sum of all factorial numbers from m to n\n",
        "m=int(input(\"Enter m value:\"))\n",
        "n=int(input(\"Enter n value:\"))\n",
        "if m>n :\n",
        "  print(\"Enter valid m,n values\")\n",
        "else:\n",
        "  fact=0\n",
        "  fact1 = 1\n",
        "  for i in range(m,n+1):\n",
        "    for j in range (1,i+1):\n",
        "      fact1 = fact1*j\n",
        "    fact=fact+fact1\n",
        "    fact1=1\n",
        "  print(f\"sum of factorial numbers from {m} to {n} = {fact}\")"
      ],
      "metadata": {
        "colab": {
          "base_uri": "https://localhost:8080/"
        },
        "id": "TPyS47uBcznY",
        "outputId": "24fdb4b6-09a1-4a12-b9b7-34eaa5f98de1"
      },
      "execution_count": 63,
      "outputs": [
        {
          "output_type": "stream",
          "name": "stdout",
          "text": [
            "Enter m value:3\n",
            "Enter n value:5\n",
            "sum of factorial numbers from 3 to 5 = 150\n"
          ]
        }
      ]
    }
  ]
}